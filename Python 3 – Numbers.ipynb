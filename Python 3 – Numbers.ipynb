{
 "cells": [
  {
   "cell_type": "markdown",
   "metadata": {},
   "source": [
    "### Mathematical Functions"
   ]
  },
  {
   "cell_type": "code",
   "execution_count": 4,
   "metadata": {},
   "outputs": [
    {
     "data": {
      "text/plain": [
       "16"
      ]
     },
     "execution_count": 4,
     "metadata": {},
     "output_type": "execute_result"
    }
   ],
   "source": [
    "# Number abs() Method\n",
    "\n",
    "x = -16\n",
    "abs(x)"
   ]
  },
  {
   "cell_type": "code",
   "execution_count": 5,
   "metadata": {},
   "outputs": [
    {
     "name": "stdout",
     "output_type": "stream",
     "text": [
      "-16\n",
      "-23\n",
      "-22\n",
      "45\n"
     ]
    }
   ],
   "source": [
    "# Number ceil() Method The ceil() method returns the ceiling value of x i.e. the smallest integer not less than x.\n",
    "\n",
    "import math\n",
    "print(math.ceil(x))\n",
    "\n",
    "print(math.ceil(-23))\n",
    "print(math.ceil(-22.45))\n",
    "print(math.ceil(44.34))"
   ]
  },
  {
   "cell_type": "code",
   "execution_count": 10,
   "metadata": {},
   "outputs": [
    {
     "name": "stdout",
     "output_type": "stream",
     "text": [
      "7.38905609893065\n",
      "2.718281828459045\n",
      "1.0\n"
     ]
    }
   ],
   "source": [
    "# Number exp() Method The exp() method returns exponential of x: ex.\n",
    "\n",
    "print(math.exp(2))\n",
    "print(math.exp(1))\n",
    "print(math.exp(0))"
   ]
  },
  {
   "cell_type": "markdown",
   "metadata": {},
   "source": [
    "### Number fabs() Method\n",
    "Description\n",
    "The fabs() method returns the absolute value of x. Although similar to the abs() function,\n",
    "there are differences between the two functions. They are-\n",
    " abs() is a built in function whereas fabs() is defined in math module.\n",
    " fabs() function works only on float and integer whereas abs() works with complex\n",
    "number also."
   ]
  },
  {
   "cell_type": "code",
   "execution_count": 11,
   "metadata": {},
   "outputs": [
    {
     "name": "stdout",
     "output_type": "stream",
     "text": [
      "20.0\n"
     ]
    },
    {
     "ename": "TypeError",
     "evalue": "can't convert complex to float",
     "output_type": "error",
     "traceback": [
      "\u001b[1;31m---------------------------------------------------------------------------\u001b[0m",
      "\u001b[1;31mTypeError\u001b[0m                                 Traceback (most recent call last)",
      "\u001b[1;32m<ipython-input-11-a9e6124cb314>\u001b[0m in \u001b[0;36m<module>\u001b[1;34m\u001b[0m\n\u001b[0;32m      1\u001b[0m \u001b[0mprint\u001b[0m\u001b[1;33m(\u001b[0m\u001b[0mmath\u001b[0m\u001b[1;33m.\u001b[0m\u001b[0mfabs\u001b[0m\u001b[1;33m(\u001b[0m\u001b[1;33m-\u001b[0m\u001b[1;36m20\u001b[0m\u001b[1;33m)\u001b[0m\u001b[1;33m)\u001b[0m\u001b[1;33m\u001b[0m\u001b[1;33m\u001b[0m\u001b[0m\n\u001b[0;32m      2\u001b[0m \u001b[1;33m\u001b[0m\u001b[0m\n\u001b[1;32m----> 3\u001b[1;33m \u001b[0mprint\u001b[0m\u001b[1;33m(\u001b[0m\u001b[0mmath\u001b[0m\u001b[1;33m.\u001b[0m\u001b[0mfabs\u001b[0m\u001b[1;33m(\u001b[0m\u001b[1;36m2\u001b[0m\u001b[1;33m+\u001b[0m\u001b[1;36m3j\u001b[0m\u001b[1;33m)\u001b[0m\u001b[1;33m)\u001b[0m\u001b[1;33m\u001b[0m\u001b[1;33m\u001b[0m\u001b[0m\n\u001b[0m",
      "\u001b[1;31mTypeError\u001b[0m: can't convert complex to float"
     ]
    }
   ],
   "source": [
    "print(math.fabs(-20))\n",
    "\n",
    "print(math.fabs(2+3j))"
   ]
  },
  {
   "cell_type": "code",
   "execution_count": 12,
   "metadata": {},
   "outputs": [
    {
     "data": {
      "text/plain": [
       "3.605551275463989"
      ]
     },
     "execution_count": 12,
     "metadata": {},
     "output_type": "execute_result"
    }
   ],
   "source": [
    "abs(2+3j)"
   ]
  },
  {
   "cell_type": "code",
   "execution_count": 13,
   "metadata": {},
   "outputs": [
    {
     "name": "stdout",
     "output_type": "stream",
     "text": [
      "-24\n",
      "23\n"
     ]
    },
    {
     "ename": "TypeError",
     "evalue": "can't convert complex to float",
     "output_type": "error",
     "traceback": [
      "\u001b[1;31m---------------------------------------------------------------------------\u001b[0m",
      "\u001b[1;31mTypeError\u001b[0m                                 Traceback (most recent call last)",
      "\u001b[1;32m<ipython-input-13-1f412669ab98>\u001b[0m in \u001b[0;36m<module>\u001b[1;34m\u001b[0m\n\u001b[0;32m      3\u001b[0m \u001b[0mprint\u001b[0m\u001b[1;33m(\u001b[0m\u001b[0mmath\u001b[0m\u001b[1;33m.\u001b[0m\u001b[0mfloor\u001b[0m\u001b[1;33m(\u001b[0m\u001b[1;33m-\u001b[0m\u001b[1;36m23.44\u001b[0m\u001b[1;33m)\u001b[0m\u001b[1;33m)\u001b[0m\u001b[1;33m\u001b[0m\u001b[1;33m\u001b[0m\u001b[0m\n\u001b[0;32m      4\u001b[0m \u001b[0mprint\u001b[0m\u001b[1;33m(\u001b[0m\u001b[0mmath\u001b[0m\u001b[1;33m.\u001b[0m\u001b[0mfloor\u001b[0m\u001b[1;33m(\u001b[0m\u001b[1;36m23.44\u001b[0m\u001b[1;33m)\u001b[0m\u001b[1;33m)\u001b[0m\u001b[1;33m\u001b[0m\u001b[1;33m\u001b[0m\u001b[0m\n\u001b[1;32m----> 5\u001b[1;33m \u001b[0mprint\u001b[0m\u001b[1;33m(\u001b[0m\u001b[0mmath\u001b[0m\u001b[1;33m.\u001b[0m\u001b[0mfloor\u001b[0m\u001b[1;33m(\u001b[0m\u001b[1;36m4\u001b[0m\u001b[1;33m-\u001b[0m\u001b[1;36m6j\u001b[0m\u001b[1;33m)\u001b[0m\u001b[1;33m)\u001b[0m\u001b[1;33m\u001b[0m\u001b[1;33m\u001b[0m\u001b[0m\n\u001b[0m",
      "\u001b[1;31mTypeError\u001b[0m: can't convert complex to float"
     ]
    }
   ],
   "source": [
    "# Number floor() Method The floor() method returns the floor of x i.e. the largest integer not greater than x.\n",
    "\n",
    "print(math.floor(-23.44))\n",
    "print(math.floor(23.44))\n",
    "print(math.floor(4-6j))"
   ]
  },
  {
   "cell_type": "code",
   "execution_count": 20,
   "metadata": {},
   "outputs": [
    {
     "name": "stdout",
     "output_type": "stream",
     "text": [
      "2.302585092994046\n",
      "2.995732273553991\n"
     ]
    },
    {
     "ename": "ValueError",
     "evalue": "math domain error",
     "output_type": "error",
     "traceback": [
      "\u001b[1;31m---------------------------------------------------------------------------\u001b[0m",
      "\u001b[1;31mValueError\u001b[0m                                Traceback (most recent call last)",
      "\u001b[1;32m<ipython-input-20-971c51716e86>\u001b[0m in \u001b[0;36m<module>\u001b[1;34m\u001b[0m\n\u001b[0;32m      3\u001b[0m \u001b[0mprint\u001b[0m\u001b[1;33m(\u001b[0m\u001b[0mmath\u001b[0m\u001b[1;33m.\u001b[0m\u001b[0mlog\u001b[0m\u001b[1;33m(\u001b[0m\u001b[1;36m10\u001b[0m\u001b[1;33m)\u001b[0m\u001b[1;33m)\u001b[0m\u001b[1;33m\u001b[0m\u001b[1;33m\u001b[0m\u001b[0m\n\u001b[0;32m      4\u001b[0m \u001b[0mprint\u001b[0m\u001b[1;33m(\u001b[0m\u001b[0mmath\u001b[0m\u001b[1;33m.\u001b[0m\u001b[0mlog\u001b[0m\u001b[1;33m(\u001b[0m\u001b[1;36m20\u001b[0m\u001b[1;33m)\u001b[0m\u001b[1;33m)\u001b[0m\u001b[1;33m\u001b[0m\u001b[1;33m\u001b[0m\u001b[0m\n\u001b[1;32m----> 5\u001b[1;33m \u001b[0mprint\u001b[0m\u001b[1;33m(\u001b[0m\u001b[0mmath\u001b[0m\u001b[1;33m.\u001b[0m\u001b[0mlog\u001b[0m\u001b[1;33m(\u001b[0m\u001b[1;33m-\u001b[0m\u001b[1;36m10\u001b[0m\u001b[1;33m)\u001b[0m\u001b[1;33m)\u001b[0m\u001b[1;33m\u001b[0m\u001b[1;33m\u001b[0m\u001b[0m\n\u001b[0m\u001b[0;32m      6\u001b[0m \u001b[1;31m#print(math.log(3+6j)  # TypeError: can't convert complex to float\u001b[0m\u001b[1;33m\u001b[0m\u001b[1;33m\u001b[0m\u001b[1;33m\u001b[0m\u001b[0m\n",
      "\u001b[1;31mValueError\u001b[0m: math domain error"
     ]
    }
   ],
   "source": [
    "# Number log() Method The log() method returns the natural logarithm of x, for x > 0.\n",
    "\n",
    "print(math.log(10))\n",
    "print(math.log(20))\n",
    "print(math.log(-10))\n",
    "#print(math.log(3+6j)  # TypeError: can't convert complex to float"
   ]
  },
  {
   "cell_type": "code",
   "execution_count": 22,
   "metadata": {},
   "outputs": [
    {
     "name": "stdout",
     "output_type": "stream",
     "text": [
      "2.0008677215312267\n",
      "0.49714987269413385\n"
     ]
    }
   ],
   "source": [
    "# Number log10() Method The log10() method returns base-10 logarithm of x for x > 0.\n",
    "\n",
    "print(math.log10(100.20))\n",
    "print(math.log10(math.pi))"
   ]
  },
  {
   "cell_type": "code",
   "execution_count": 26,
   "metadata": {},
   "outputs": [
    {
     "name": "stdout",
     "output_type": "stream",
     "text": [
      "67\n"
     ]
    }
   ],
   "source": [
    "# Number max() Method\n",
    "\n",
    "li = [12,45,67,33,45,8,7,55,11]\n",
    "print(max(li))"
   ]
  },
  {
   "cell_type": "code",
   "execution_count": 27,
   "metadata": {},
   "outputs": [
    {
     "name": "stdout",
     "output_type": "stream",
     "text": [
      "7\n"
     ]
    }
   ],
   "source": [
    "# Number min() Method\n",
    "\n",
    "print(min(li))"
   ]
  },
  {
   "cell_type": "code",
   "execution_count": 28,
   "metadata": {},
   "outputs": [
    {
     "name": "stdout",
     "output_type": "stream",
     "text": [
      "math.modf(100.12) :  (0.12000000000000455, 100.0)\n",
      "math.modf(100.72) :  (0.7199999999999989, 100.0)\n",
      "math.modf(119) :  (0.0, 119.0)\n",
      "math.modf(math.pi) :  (0.14159265358979312, 3.0)\n"
     ]
    }
   ],
   "source": [
    "# Number modf() Method \n",
    "\"\"\" The modf() method returns the fractional and integer parts of x in a two-item tuple. Both\n",
    "parts have the same sign as x. The integer part is returned as a float. \"\"\"\n",
    "\n",
    "print (\"math.modf(100.12) : \", math.modf(100.12))\n",
    "print (\"math.modf(100.72) : \", math.modf(100.72))\n",
    "print (\"math.modf(119) : \", math.modf(119))\n",
    "print (\"math.modf(math.pi) : \", math.modf(math.pi))"
   ]
  },
  {
   "cell_type": "code",
   "execution_count": 29,
   "metadata": {},
   "outputs": [
    {
     "name": "stdout",
     "output_type": "stream",
     "text": [
      "4.0\n",
      "1e+76\n"
     ]
    }
   ],
   "source": [
    "# Number pow() Method This method returns the value of x power y.\n",
    "\n",
    "print(math.pow(2,2))\n",
    "print(math.pow(100,38))"
   ]
  },
  {
   "cell_type": "code",
   "execution_count": 31,
   "metadata": {},
   "outputs": [
    {
     "name": "stdout",
     "output_type": "stream",
     "text": [
      "100\n",
      "12.235\n",
      "-130\n",
      "-10.23\n"
     ]
    }
   ],
   "source": [
    "# Number round() Method \n",
    "# round() is a built-in function in Python. It returns x rounded to n digits from the decimal point\n",
    "\n",
    "\n",
    "print(round(100.2345))\n",
    "print(round(12.2345,3))\n",
    "print(round(-130.25))\n",
    "print(round(-10.234522,2))"
   ]
  },
  {
   "cell_type": "code",
   "execution_count": 33,
   "metadata": {},
   "outputs": [
    {
     "name": "stdout",
     "output_type": "stream",
     "text": [
      "2.0\n",
      "4.0\n",
      "3.0\n"
     ]
    }
   ],
   "source": [
    "# Number sqrt() Method The sqrt() method returns the square root of x for x > 0.\n",
    "\n",
    "print(math.sqrt(4))\n",
    "print(math.sqrt(16))\n",
    "print(math.sqrt(9))"
   ]
  },
  {
   "cell_type": "code",
   "execution_count": 38,
   "metadata": {},
   "outputs": [
    {
     "name": "stdout",
     "output_type": "stream",
     "text": [
      "Help on built-in module math:\n",
      "\n",
      "NAME\n",
      "    math\n",
      "\n",
      "DESCRIPTION\n",
      "    This module provides access to the mathematical functions\n",
      "    defined by the C standard.\n",
      "\n",
      "FUNCTIONS\n",
      "    acos(x, /)\n",
      "        Return the arc cosine (measured in radians) of x.\n",
      "    \n",
      "    acosh(x, /)\n",
      "        Return the inverse hyperbolic cosine of x.\n",
      "    \n",
      "    asin(x, /)\n",
      "        Return the arc sine (measured in radians) of x.\n",
      "    \n",
      "    asinh(x, /)\n",
      "        Return the inverse hyperbolic sine of x.\n",
      "    \n",
      "    atan(x, /)\n",
      "        Return the arc tangent (measured in radians) of x.\n",
      "    \n",
      "    atan2(y, x, /)\n",
      "        Return the arc tangent (measured in radians) of y/x.\n",
      "        \n",
      "        Unlike atan(y/x), the signs of both x and y are considered.\n",
      "    \n",
      "    atanh(x, /)\n",
      "        Return the inverse hyperbolic tangent of x.\n",
      "    \n",
      "    ceil(x, /)\n",
      "        Return the ceiling of x as an Integral.\n",
      "        \n",
      "        This is the smallest integer >= x.\n",
      "    \n",
      "    comb(n, k, /)\n",
      "        Number of ways to choose k items from n items without repetition and without order.\n",
      "        \n",
      "        Evaluates to n! / (k! * (n - k)!) when k <= n and evaluates\n",
      "        to zero when k > n.\n",
      "        \n",
      "        Also called the binomial coefficient because it is equivalent\n",
      "        to the coefficient of k-th term in polynomial expansion of the\n",
      "        expression (1 + x)**n.\n",
      "        \n",
      "        Raises TypeError if either of the arguments are not integers.\n",
      "        Raises ValueError if either of the arguments are negative.\n",
      "    \n",
      "    copysign(x, y, /)\n",
      "        Return a float with the magnitude (absolute value) of x but the sign of y.\n",
      "        \n",
      "        On platforms that support signed zeros, copysign(1.0, -0.0)\n",
      "        returns -1.0.\n",
      "    \n",
      "    cos(x, /)\n",
      "        Return the cosine of x (measured in radians).\n",
      "    \n",
      "    cosh(x, /)\n",
      "        Return the hyperbolic cosine of x.\n",
      "    \n",
      "    degrees(x, /)\n",
      "        Convert angle x from radians to degrees.\n",
      "    \n",
      "    dist(p, q, /)\n",
      "        Return the Euclidean distance between two points p and q.\n",
      "        \n",
      "        The points should be specified as sequences (or iterables) of\n",
      "        coordinates.  Both inputs must have the same dimension.\n",
      "        \n",
      "        Roughly equivalent to:\n",
      "            sqrt(sum((px - qx) ** 2.0 for px, qx in zip(p, q)))\n",
      "    \n",
      "    erf(x, /)\n",
      "        Error function at x.\n",
      "    \n",
      "    erfc(x, /)\n",
      "        Complementary error function at x.\n",
      "    \n",
      "    exp(x, /)\n",
      "        Return e raised to the power of x.\n",
      "    \n",
      "    expm1(x, /)\n",
      "        Return exp(x)-1.\n",
      "        \n",
      "        This function avoids the loss of precision involved in the direct evaluation of exp(x)-1 for small x.\n",
      "    \n",
      "    fabs(x, /)\n",
      "        Return the absolute value of the float x.\n",
      "    \n",
      "    factorial(x, /)\n",
      "        Find x!.\n",
      "        \n",
      "        Raise a ValueError if x is negative or non-integral.\n",
      "    \n",
      "    floor(x, /)\n",
      "        Return the floor of x as an Integral.\n",
      "        \n",
      "        This is the largest integer <= x.\n",
      "    \n",
      "    fmod(x, y, /)\n",
      "        Return fmod(x, y), according to platform C.\n",
      "        \n",
      "        x % y may differ.\n",
      "    \n",
      "    frexp(x, /)\n",
      "        Return the mantissa and exponent of x, as pair (m, e).\n",
      "        \n",
      "        m is a float and e is an int, such that x = m * 2.**e.\n",
      "        If x is 0, m and e are both 0.  Else 0.5 <= abs(m) < 1.0.\n",
      "    \n",
      "    fsum(seq, /)\n",
      "        Return an accurate floating point sum of values in the iterable seq.\n",
      "        \n",
      "        Assumes IEEE-754 floating point arithmetic.\n",
      "    \n",
      "    gamma(x, /)\n",
      "        Gamma function at x.\n",
      "    \n",
      "    gcd(x, y, /)\n",
      "        greatest common divisor of x and y\n",
      "    \n",
      "    hypot(...)\n",
      "        hypot(*coordinates) -> value\n",
      "        \n",
      "        Multidimensional Euclidean distance from the origin to a point.\n",
      "        \n",
      "        Roughly equivalent to:\n",
      "            sqrt(sum(x**2 for x in coordinates))\n",
      "        \n",
      "        For a two dimensional point (x, y), gives the hypotenuse\n",
      "        using the Pythagorean theorem:  sqrt(x*x + y*y).\n",
      "        \n",
      "        For example, the hypotenuse of a 3/4/5 right triangle is:\n",
      "        \n",
      "            >>> hypot(3.0, 4.0)\n",
      "            5.0\n",
      "    \n",
      "    isclose(a, b, *, rel_tol=1e-09, abs_tol=0.0)\n",
      "        Determine whether two floating point numbers are close in value.\n",
      "        \n",
      "          rel_tol\n",
      "            maximum difference for being considered \"close\", relative to the\n",
      "            magnitude of the input values\n",
      "          abs_tol\n",
      "            maximum difference for being considered \"close\", regardless of the\n",
      "            magnitude of the input values\n",
      "        \n",
      "        Return True if a is close in value to b, and False otherwise.\n",
      "        \n",
      "        For the values to be considered close, the difference between them\n",
      "        must be smaller than at least one of the tolerances.\n",
      "        \n",
      "        -inf, inf and NaN behave similarly to the IEEE 754 Standard.  That\n",
      "        is, NaN is not close to anything, even itself.  inf and -inf are\n",
      "        only close to themselves.\n",
      "    \n",
      "    isfinite(x, /)\n",
      "        Return True if x is neither an infinity nor a NaN, and False otherwise.\n",
      "    \n",
      "    isinf(x, /)\n",
      "        Return True if x is a positive or negative infinity, and False otherwise.\n",
      "    \n",
      "    isnan(x, /)\n",
      "        Return True if x is a NaN (not a number), and False otherwise.\n",
      "    \n",
      "    isqrt(n, /)\n",
      "        Return the integer part of the square root of the input.\n",
      "    \n",
      "    ldexp(x, i, /)\n",
      "        Return x * (2**i).\n",
      "        \n",
      "        This is essentially the inverse of frexp().\n",
      "    \n",
      "    lgamma(x, /)\n",
      "        Natural logarithm of absolute value of Gamma function at x.\n",
      "    \n",
      "    log(...)\n",
      "        log(x, [base=math.e])\n",
      "        Return the logarithm of x to the given base.\n",
      "        \n",
      "        If the base not specified, returns the natural logarithm (base e) of x.\n",
      "    \n",
      "    log10(x, /)\n",
      "        Return the base 10 logarithm of x.\n",
      "    \n",
      "    log1p(x, /)\n",
      "        Return the natural logarithm of 1+x (base e).\n",
      "        \n",
      "        The result is computed in a way which is accurate for x near zero.\n",
      "    \n",
      "    log2(x, /)\n",
      "        Return the base 2 logarithm of x.\n",
      "    \n",
      "    modf(x, /)\n",
      "        Return the fractional and integer parts of x.\n",
      "        \n",
      "        Both results carry the sign of x and are floats.\n",
      "    \n",
      "    perm(n, k=None, /)\n",
      "        Number of ways to choose k items from n items without repetition and with order.\n",
      "        \n",
      "        Evaluates to n! / (n - k)! when k <= n and evaluates\n",
      "        to zero when k > n.\n",
      "        \n",
      "        If k is not specified or is None, then k defaults to n\n",
      "        and the function returns n!.\n",
      "        \n",
      "        Raises TypeError if either of the arguments are not integers.\n",
      "        Raises ValueError if either of the arguments are negative.\n",
      "    \n",
      "    pow(x, y, /)\n",
      "        Return x**y (x to the power of y).\n",
      "    \n",
      "    prod(iterable, /, *, start=1)\n",
      "        Calculate the product of all the elements in the input iterable.\n",
      "        \n",
      "        The default start value for the product is 1.\n",
      "        \n",
      "        When the iterable is empty, return the start value.  This function is\n",
      "        intended specifically for use with numeric values and may reject\n",
      "        non-numeric types.\n",
      "    \n",
      "    radians(x, /)\n",
      "        Convert angle x from degrees to radians.\n",
      "    \n",
      "    remainder(x, y, /)\n",
      "        Difference between x and the closest integer multiple of y.\n",
      "        \n",
      "        Return x - n*y where n*y is the closest integer multiple of y.\n",
      "        In the case where x is exactly halfway between two multiples of\n",
      "        y, the nearest even value of n is used. The result is always exact.\n",
      "    \n",
      "    sin(x, /)\n",
      "        Return the sine of x (measured in radians).\n",
      "    \n",
      "    sinh(x, /)\n",
      "        Return the hyperbolic sine of x.\n",
      "    \n",
      "    sqrt(x, /)\n",
      "        Return the square root of x.\n",
      "    \n",
      "    tan(x, /)\n",
      "        Return the tangent of x (measured in radians).\n",
      "    \n",
      "    tanh(x, /)\n",
      "        Return the hyperbolic tangent of x.\n",
      "    \n",
      "    trunc(x, /)\n",
      "        Truncates the Real x to the nearest Integral toward 0.\n",
      "        \n",
      "        Uses the __trunc__ magic method.\n",
      "\n",
      "DATA\n",
      "    e = 2.718281828459045\n",
      "    inf = inf\n",
      "    nan = nan\n",
      "    pi = 3.141592653589793\n",
      "    tau = 6.283185307179586\n",
      "\n",
      "FILE\n",
      "    (built-in)\n",
      "\n",
      "\n"
     ]
    }
   ],
   "source": [
    "help(math)"
   ]
  },
  {
   "cell_type": "markdown",
   "metadata": {},
   "source": [
    "### Random Number Functions"
   ]
  },
  {
   "cell_type": "code",
   "execution_count": 41,
   "metadata": {},
   "outputs": [
    {
     "name": "stdout",
     "output_type": "stream",
     "text": [
      "4\n",
      "2\n"
     ]
    }
   ],
   "source": [
    "# Number choice() \n",
    "# The choice() method returns a random item from a list, tuple, or string.\n",
    "\n",
    "import random\n",
    "\n",
    "tup = (1,2,4,5,89,88)\n",
    "print(random.choice(tup))\n",
    "\n",
    "tup = (1,2,4,5,89,88)\n",
    "print(random.choice(tup))"
   ]
  },
  {
   "cell_type": "code",
   "execution_count": 43,
   "metadata": {},
   "outputs": [
    {
     "name": "stdout",
     "output_type": "stream",
     "text": [
      "25\n",
      "27\n",
      "5\n"
     ]
    }
   ],
   "source": [
    "# Number randrange() Method \n",
    "# The randrange() method returns a randomly selected element from range(start, stop, step).\n",
    "\n",
    "print(random.randrange(1,50,2))\n",
    "print(random.randrange(1,50,2))\n",
    "print(random.randrange(1,50,2))"
   ]
  },
  {
   "cell_type": "code",
   "execution_count": 45,
   "metadata": {},
   "outputs": [
    {
     "name": "stdout",
     "output_type": "stream",
     "text": [
      "0.08401856375891548\n",
      "0.8779173571210273\n",
      "0.4001615125644672\n",
      "0.15630234425036194\n"
     ]
    }
   ],
   "source": [
    "# Number random() Method\n",
    "# The random() method returns a random floating point number in the range [0.0, 1.0].\n",
    "\n",
    "print(random.random())\n",
    "print(random.random())\n",
    "print(random.random())\n",
    "print(random.random())"
   ]
  },
  {
   "cell_type": "code",
   "execution_count": 46,
   "metadata": {},
   "outputs": [
    {
     "name": "stdout",
     "output_type": "stream",
     "text": [
      "random number with default seed 0.5066176679704216\n",
      "random number with int seed 0.5714025946899135\n",
      "random number with string seed 0.3537754404730722\n"
     ]
    }
   ],
   "source": [
    "# Number seed() Method  \n",
    "\"\"\" The seed() method initializes the basic random number generator. Call this function\n",
    "before calling any other random module function. \"\"\"\n",
    "\n",
    "random.seed()\n",
    "print (\"random number with default seed\", random.random())\n",
    "random.seed(10)\n",
    "print (\"random number with int seed\", random.random())\n",
    "random.seed(\"hello\",2)\n",
    "print (\"random number with string seed\", random.random())"
   ]
  },
  {
   "cell_type": "markdown",
   "metadata": {},
   "source": [
    "### The shuffle() method\n",
    "\n",
    "Description\n",
    "The shuffle() method randomizes the items of a list in place.\n",
    "Syntax\n",
    "Following is the syntax for the shuffle() methodshuffle\n",
    "(lst,[random])\n",
    "Note: This function is not accessible directly, so we need to import the shuffle module and\n",
    "then we need to call this function using the random static object.\n",
    "Parameters\n",
    " lst - This could be a list or tuple.\n",
    " random - This is an optional 0 argument function returning float between 0.0 -\n",
    "1.0. Default is None.\n",
    "Return Value\n",
    "This method returns reshuffled list."
   ]
  },
  {
   "cell_type": "code",
   "execution_count": 47,
   "metadata": {},
   "outputs": [
    {
     "name": "stdout",
     "output_type": "stream",
     "text": [
      "Reshuffled list :  [10, 16, 5, 20]\n",
      "Reshuffled list :  [20, 16, 5, 10]\n"
     ]
    }
   ],
   "source": [
    "list = [20, 16, 10, 5];\n",
    "random.shuffle(list)\n",
    "print (\"Reshuffled list : \", list)\n",
    "random.shuffle(list)\n",
    "print (\"Reshuffled list : \", list)"
   ]
  },
  {
   "cell_type": "markdown",
   "metadata": {},
   "source": [
    "### Number uniform() Method\n",
    "Description\n",
    "The uniform() method returns a random float r, such that x is less than or equal to r and\n",
    "r is less than y.\n",
    "Syntax\n",
    "Following is the syntax for the uniform() methoduniform(\n",
    "x, y)\n",
    "Note: This function is not accessible directly, so we need to import the uniform module\n",
    "and then we need to call this function using the random static object.\n",
    "Parameters\n",
    " x - Sets the lower limit of the random float.\n",
    " y - Sets the upper limit of the random float.\n",
    "Return Value\n",
    "This method returns a floating point number r such that x <=r < y."
   ]
  },
  {
   "cell_type": "code",
   "execution_count": 48,
   "metadata": {},
   "outputs": [
    {
     "name": "stdout",
     "output_type": "stream",
     "text": [
      "Random Float uniform(5, 10) :  8.32548129941273\n",
      "Random Float uniform(7, 14) :  11.50216637642797\n"
     ]
    }
   ],
   "source": [
    "print (\"Random Float uniform(5, 10) : \", random.uniform(5, 10))\n",
    "print (\"Random Float uniform(7, 14) : \", random.uniform(7, 14))"
   ]
  },
  {
   "cell_type": "markdown",
   "metadata": {},
   "source": [
    "## Trigonometric Functions"
   ]
  },
  {
   "cell_type": "code",
   "execution_count": 11,
   "metadata": {},
   "outputs": [
    {
     "name": "stdout",
     "output_type": "stream",
     "text": [
      "1.5707963267948966\n",
      "0.0\n",
      "3.141592653589793\n",
      "1.1040309877476002\n"
     ]
    }
   ],
   "source": [
    "# Number acos() Method The acos() method returns the arc cosine of x in radians.\n",
    "\"\"\" This must be a numeric value in the range -1 to 1. If x is greater than 1 then it will\n",
    "generate 'math domain error' \"\"\"\n",
    "\n",
    "print(math.acos(0))\n",
    "print(math.acos(1))\n",
    "print(math.acos(-1))\n",
    "print(math.acos(0.45))"
   ]
  },
  {
   "cell_type": "code",
   "execution_count": 12,
   "metadata": {},
   "outputs": [
    {
     "name": "stdout",
     "output_type": "stream",
     "text": [
      "-1.5707963267948966\n",
      "1.5707963267948966\n",
      "0.0\n",
      "0.5235987755982989\n"
     ]
    }
   ],
   "source": [
    "# Number asin() Method The asin() method returns the arc sine of x (in radians).\n",
    "\"\"\" This must be a numeric value in the range -1 to 1. If x is greater than 1 then it will\n",
    "generate 'math domain error' \"\"\"\n",
    "\n",
    "print(math.asin(-1))\n",
    "print(math.asin(1))\n",
    "print(math.asin(0))\n",
    "print(math.asin(0.5))\n"
   ]
  },
  {
   "cell_type": "code",
   "execution_count": 13,
   "metadata": {},
   "outputs": [
    {
     "name": "stdout",
     "output_type": "stream",
     "text": [
      "-0.7853981633974483\n",
      "1.5374753309166493\n",
      "0.7853981633974483\n",
      "0.0\n",
      "0.6107259643892086\n"
     ]
    }
   ],
   "source": [
    "# Number atan() Method The atan() method returns the arc tangent of x, in radians.\n",
    "# x - This must be a numeric value.\n",
    "\n",
    "print(math.atan(-1))\n",
    "print(math.atan(30))\n",
    "print(math.atan(1))\n",
    "print(math.atan(0))\n",
    "print(math.atan(0.7))"
   ]
  },
  {
   "cell_type": "code",
   "execution_count": 15,
   "metadata": {},
   "outputs": [
    {
     "name": "stdout",
     "output_type": "stream",
     "text": [
      "-0.7853981633974483\n",
      "-2.356194490192345\n",
      "2.356194490192345\n",
      "1.5707963267948966\n",
      "0.0\n",
      "0.7853981633974483\n",
      "0.7853981633974483\n"
     ]
    }
   ],
   "source": [
    "# Number atan2() Method The atan2() method returns atan(y / x), in radians. atan2(y, x)\n",
    "\"\"\" y - This must be a numeric value.\n",
    "    x - This must be a numeric value. \"\"\"\n",
    "\n",
    "print(math.atan2(-1,1))\n",
    "print(math.atan2(-1,-1))\n",
    "print(math.atan2(1,-1))\n",
    "print(math.atan2(1,0))\n",
    "print(math.atan2(0,1))\n",
    "print(math.atan2(1,1))\n",
    "print(math.atan2(30,30))"
   ]
  },
  {
   "cell_type": "code",
   "execution_count": 16,
   "metadata": {},
   "outputs": [
    {
     "name": "stdout",
     "output_type": "stream",
     "text": [
      "1.0\n",
      "0.5403023058681398\n",
      "0.5403023058681398\n",
      "0.15425144988758405\n",
      "0.5253219888177297\n",
      "0.40808206181339196\n",
      "0.5253219888177297\n"
     ]
    }
   ],
   "source": [
    "# Number cos() Method The cos() method returns the cosine of x radians.\n",
    "# x - This must be a numeric value.\n",
    "\n",
    "print(math.cos(0))\n",
    "print(math.cos(1))\n",
    "print(math.cos(-1))\n",
    "print(math.cos(30))\n",
    "print(math.cos(45))\n",
    "print(math.cos(20))\n",
    "print(math.cos(-45))"
   ]
  },
  {
   "cell_type": "code",
   "execution_count": 17,
   "metadata": {},
   "outputs": [
    {
     "name": "stdout",
     "output_type": "stream",
     "text": [
      "3.6055512754639896\n"
     ]
    }
   ],
   "source": [
    "# Number hypot() Method  \n",
    "\"\"\" The method hypot() return the Euclidean norm, sqrt(x*x + y*y). This is length of vector\n",
    "from origin to point (x,y)      \n",
    "\n",
    "hypot(x, y) \"\"\"\n",
    "\n",
    "\"\"\" x - This must be a numeric value.\n",
    "    y - This must be a numeric value. \"\"\"\n",
    "\n",
    "\n",
    "print(math.hypot(2,3))"
   ]
  },
  {
   "cell_type": "code",
   "execution_count": 19,
   "metadata": {},
   "outputs": [
    {
     "name": "stdout",
     "output_type": "stream",
     "text": [
      "0.0\n",
      "-0.9880316240928618\n",
      "0.8509035245341184\n"
     ]
    }
   ],
   "source": [
    "# Number sin() Method The sin() method returns the sine of x, in radians.\n",
    "# x - This must be a numeric value.\n",
    "\n",
    "print(math.sin(0))\n",
    "print(math.sin(30))\n",
    "print(math.sin(45))"
   ]
  },
  {
   "cell_type": "code",
   "execution_count": 20,
   "metadata": {},
   "outputs": [
    {
     "name": "stdout",
     "output_type": "stream",
     "text": [
      "0.0\n",
      "-6.405331196646276\n",
      "1.6197751905438615\n"
     ]
    }
   ],
   "source": [
    "# Number tan() Method The tan() method returns the tangent of x radians.\n",
    "# x - This must be a numeric value.\n",
    "\n",
    "print(math.tan(0))\n",
    "print(math.tan(30))\n",
    "print(math.tan(45))"
   ]
  },
  {
   "cell_type": "code",
   "execution_count": 22,
   "metadata": {},
   "outputs": [
    {
     "name": "stdout",
     "output_type": "stream",
     "text": [
      "0.0\n",
      "1718.8733853924696\n",
      "2578.3100780887044\n",
      "5156.620156177409\n",
      "10313.240312354817\n",
      "20626.480624709635\n"
     ]
    }
   ],
   "source": [
    "# Number degrees() Method The degrees() method converts angle x from radians to degrees..\n",
    "# x - This must be a numeric value.\n",
    "\n",
    "print(math.degrees(0))\n",
    "print(math.degrees(30))\n",
    "print(math.degrees(45))\n",
    "print(math.degrees(90))\n",
    "print(math.degrees(180))\n",
    "print(math.degrees(360))"
   ]
  },
  {
   "cell_type": "code",
   "execution_count": 23,
   "metadata": {},
   "outputs": [
    {
     "name": "stdout",
     "output_type": "stream",
     "text": [
      "0.0\n",
      "0.5235987755982988\n",
      "0.7853981633974483\n",
      "1.5707963267948966\n",
      "3.141592653589793\n",
      "6.283185307179586\n"
     ]
    }
   ],
   "source": [
    "# Number radians() Method The radians() method converts angle x from degrees to radians.\n",
    "# x - This must be a numeric value.\n",
    "\n",
    "print(math.radians(0))\n",
    "print(math.radians(30))\n",
    "print(math.radians(45))\n",
    "print(math.radians(90))\n",
    "print(math.radians(180))\n",
    "print(math.radians(360))"
   ]
  },
  {
   "cell_type": "code",
   "execution_count": null,
   "metadata": {},
   "outputs": [],
   "source": []
  }
 ],
 "metadata": {
  "kernelspec": {
   "display_name": "Python 3",
   "language": "python",
   "name": "python3"
  },
  "language_info": {
   "codemirror_mode": {
    "name": "ipython",
    "version": 3
   },
   "file_extension": ".py",
   "mimetype": "text/x-python",
   "name": "python",
   "nbconvert_exporter": "python",
   "pygments_lexer": "ipython3",
   "version": "3.8.3"
  }
 },
 "nbformat": 4,
 "nbformat_minor": 4
}
