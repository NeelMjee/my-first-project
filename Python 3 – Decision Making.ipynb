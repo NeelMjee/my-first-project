{
 "cells": [
  {
   "cell_type": "code",
   "execution_count": 2,
   "metadata": {},
   "outputs": [
    {
     "name": "stdout",
     "output_type": "stream",
     "text": [
      "1505 1540 1575 1610 1645 1680 1715 1750 1785 1820 1855 1890 1925 1960 1995 2030 2065 2100 2135 2170 2205 2240 2275 2310 2345 2380 2415 2450 2485 2520 2555 2590 2625 2660 2695 "
     ]
    }
   ],
   "source": [
    "\"\"\" 1. Write a Python program to find those numbers which are divisible by 7 and multiple of 5, \n",
    "between 1500 and 2700 (both included) \"\"\"\n",
    "\n",
    "for num in range(1500,2700):\n",
    "    if (num%7==0) and (num%5==0):\n",
    "        print(num, end=\" \")"
   ]
  },
  {
   "cell_type": "code",
   "execution_count": 8,
   "metadata": {},
   "outputs": [
    {
     "name": "stdout",
     "output_type": "stream",
     "text": [
      "Enter temp in celsius\n",
      "45\n",
      "45 degree is 113.0 in fahrenheit\n"
     ]
    }
   ],
   "source": [
    "\"\"\" Write a Python program to convert temperatures to and from celsius, fahrenheit. \n",
    "[ Formula : c/5 = f-32/9 [ where c = temperature in celsius and f = temperature in fahrenheit ] \"\"\"\n",
    "\n",
    "print('Enter temp in celsius')\n",
    "celsius = int(input())\n",
    "fahrenheit = (celsius*(9/5))+32\n",
    "\n",
    "print('{} degree is {} in fahrenheit'.format(celsius,fahrenheit))"
   ]
  },
  {
   "cell_type": "code",
   "execution_count": 13,
   "metadata": {},
   "outputs": [
    {
     "name": "stdout",
     "output_type": "stream",
     "text": [
      "enter a number to guess\n",
      "12\n",
      "enter a number to guess\n",
      "13\n"
     ]
    }
   ],
   "source": [
    "\"\"\"  Write a Python program to guess a number between 1 to 9. Note : User is prompted to enter a guess. \n",
    "If the user guesses wrong then the prompt appears again until the guess is correct, on successful guess, will \n",
    "get a \"Well guessed!\" message, and the program will exit. \"\"\"\n",
    "\n",
    "print('enter a number to guess')\n",
    "num = int(input())\n",
    "\n",
    "if num in range(1,9):\n",
    "    print('Well guessed!')\n",
    "else:\n",
    "    print('enter a number to guess')\n",
    "    num = int(input())\n",
    "    "
   ]
  },
  {
   "cell_type": "code",
   "execution_count": 25,
   "metadata": {},
   "outputs": [
    {
     "name": "stdout",
     "output_type": "stream",
     "text": [
      "* \n",
      "* * \n",
      "* * * \n",
      "* * * * \n",
      "* * * * * \n",
      "* * * * \n",
      "* * * \n",
      "* * \n",
      "* \n"
     ]
    }
   ],
   "source": [
    "\"\"\" Write a Python program to construct the following pattern, using a nested for loop.\n",
    "\n",
    "* \n",
    "* * \n",
    "* * * \n",
    "* * * * \n",
    "* * * * * \n",
    "* * * * \n",
    "* * * \n",
    "* * \n",
    "*\n",
    "\n",
    "\"\"\"\n",
    "\n",
    "\n",
    "for rows in range(1,10):\n",
    "    for cols in range(1,6):\n",
    "        if (cols==1):\n",
    "            print('*',end=' ')\n",
    "        elif (cols==2) and (rows != 1 and rows != 9):\n",
    "            print('*',end=' ')\n",
    "        elif (cols==3) and (rows != 1 and rows != 9 and rows != 2 and rows != 8):\n",
    "            print('*',end=' ')\n",
    "        elif (cols==4) and (rows != 1 and rows != 9 and rows != 2 and rows != 8 and rows != 3 and rows != 7):\n",
    "            print('*',end=' ')\n",
    "        elif(rows==5):\n",
    "            print('*',end=' ')\n",
    "        \n",
    "    print()\n",
    "        \n",
    "            \n"
   ]
  },
  {
   "cell_type": "code",
   "execution_count": 34,
   "metadata": {},
   "outputs": [
    {
     "name": "stdout",
     "output_type": "stream",
     "text": [
      "* \n",
      "* * \n",
      "* * * \n",
      "* * * * \n",
      "* * * * * \n",
      "\n"
     ]
    }
   ],
   "source": [
    "for rows in range(1,10):\n",
    "    print('* ' * rows)\n",
    "    if (rows > 4):\n",
    "        break\n",
    "print()"
   ]
  },
  {
   "cell_type": "code",
   "execution_count": 26,
   "metadata": {},
   "outputs": [
    {
     "name": "stdout",
     "output_type": "stream",
     "text": [
      "enter a word\n",
      "Hello\n",
      "olleH\n"
     ]
    }
   ],
   "source": [
    "\"\"\" Write a Python program that accepts a word from the user and reverse it. \"\"\"\n",
    "\n",
    "print('enter a word')\n",
    "str = input()\n",
    "\n",
    "rev_str = str[::-1]\n",
    "print(rev_str)"
   ]
  },
  {
   "cell_type": "code",
   "execution_count": 29,
   "metadata": {},
   "outputs": [
    {
     "name": "stdout",
     "output_type": "stream",
     "text": [
      "even count: 5\n",
      "odd_count: 10\n"
     ]
    }
   ],
   "source": [
    "\"\"\"  Write a Python program to count the number of even and odd numbers from a series of numbers \"\"\"\n",
    "\n",
    "series = (21,53,24,56,78,11,22,96,53,37,73,1285,8043,1143,777)\n",
    "count_even = 0\n",
    "count_odd = 0\n",
    "\n",
    "for num in series:\n",
    "    if (num%2==0):\n",
    "        count_even += 1\n",
    "    else:\n",
    "        count_odd += 1\n",
    "\n",
    "print('even count:', count_even)\n",
    "print('odd_count:',count_odd)\n"
   ]
  },
  {
   "cell_type": "code",
   "execution_count": 30,
   "metadata": {},
   "outputs": [
    {
     "name": "stdout",
     "output_type": "stream",
     "text": [
      "1452 <class 'int'>\n",
      "11.23 <class 'float'>\n",
      "(1+2j) <class 'complex'>\n",
      "True <class 'bool'>\n",
      "w3resource <class 'str'>\n",
      "(0, -1) <class 'tuple'>\n",
      "[5, 12] <class 'list'>\n",
      "{'class': 'V', 'section': 'A'} <class 'dict'>\n"
     ]
    }
   ],
   "source": [
    "\"\"\" Write a Python program that prints each item and its corresponding type from the following list.\n",
    "Sample List : datalist = [1452, 11.23, 1+2j, True, 'w3resource', (0, -1), [5, 12], {\"class\":'V', \"section\":'A'}] \"\"\"\n",
    "\n",
    "sample_list = [1452, 11.23, 1+2j, True, 'w3resource', (0, -1), [5, 12], {\"class\":'V', \"section\":'A'}]\n",
    "\n",
    "for items in sample_list:\n",
    "    print(items,(type(items)))"
   ]
  },
  {
   "cell_type": "code",
   "execution_count": 3,
   "metadata": {},
   "outputs": [
    {
     "name": "stdout",
     "output_type": "stream",
     "text": [
      "0\n",
      "1\n",
      "2\n",
      "4\n",
      "5\n"
     ]
    }
   ],
   "source": [
    "\"\"\" Write a Python program that prints all the numbers from 0 to 6 except 3 and 6.\n",
    "Note : Use 'continue' statement. \"\"\"\n",
    "\n",
    "for nums in range(6):\n",
    "    if (nums !=3)and(nums !=6):\n",
    "        print(nums)"
   ]
  },
  {
   "cell_type": "code",
   "execution_count": 12,
   "metadata": {},
   "outputs": [
    {
     "name": "stdout",
     "output_type": "stream",
     "text": [
      "1 1 2 3 5 8 13 21 34 "
     ]
    }
   ],
   "source": [
    "\"\"\" Write a Python program to get the Fibonacci series between 0 to 50. \n",
    "Note : The Fibonacci Sequence is the series of numbers : \"\"\"\n",
    "\n",
    "x,y=0,1\n",
    "\n",
    "while y<50:\n",
    "    print(y, end=' ')\n",
    "    x,y = y,x+y"
   ]
  },
  {
   "cell_type": "code",
   "execution_count": 13,
   "metadata": {},
   "outputs": [
    {
     "name": "stdout",
     "output_type": "stream",
     "text": [
      "1\n",
      "2\n",
      "Fizz\n",
      "4\n",
      "Buzz\n",
      "Fizz\n",
      "7\n",
      "8\n",
      "Fizz\n",
      "Buzz\n",
      "11\n",
      "Fizz\n",
      "13\n",
      "14\n",
      "Fizz\n",
      "16\n",
      "17\n",
      "Fizz\n",
      "19\n",
      "Buzz\n",
      "Fizz\n",
      "22\n",
      "23\n",
      "Fizz\n",
      "Buzz\n",
      "26\n",
      "Fizz\n",
      "28\n",
      "29\n",
      "Fizz\n",
      "31\n",
      "32\n",
      "Fizz\n",
      "34\n",
      "Buzz\n",
      "Fizz\n",
      "37\n",
      "38\n",
      "Fizz\n",
      "Buzz\n",
      "41\n",
      "Fizz\n",
      "43\n",
      "44\n",
      "Fizz\n",
      "46\n",
      "47\n",
      "Fizz\n",
      "49\n",
      "Buzz\n"
     ]
    }
   ],
   "source": [
    "\"\"\" Write a Python program which iterates the integers from 1 to 50. For multiples of three print \"Fizz\" instead of the \n",
    "number and for the multiples of five print \"Buzz\". For numbers which are multiples of both three and five print \"FizzBuzz\". \"\"\"\n",
    "\n",
    "for items in range(1,51):\n",
    "    if (items%3==0):\n",
    "        print('Fizz')\n",
    "    elif (items%5==0):\n",
    "        print('Buzz')\n",
    "    elif (items%3==0) and (items%5==0):\n",
    "        print('FizzBuzz')\n",
    "    else:\n",
    "        print(items)"
   ]
  },
  {
   "cell_type": "code",
   "execution_count": 24,
   "metadata": {},
   "outputs": [
    {
     "name": "stdout",
     "output_type": "stream",
     "text": [
      "enter no of rows:2\n",
      "enter no of cols:3\n",
      "[0] [0] [0] [0] [0] [1] [2] [3] [0] [2] [4] [6] "
     ]
    }
   ],
   "source": [
    "\"\"\" . Write a Python program which takes two digits m (row) and n (column) as input and generates a two-dimensional array. \n",
    "The element value in the i-th row and j-th column of the array should be i*j. \"\"\"\n",
    "\n",
    "\n",
    "row = int(input('enter no of rows:'))\n",
    "col = int(input('enter no of cols:'))\n",
    "\n",
    "for i in range(row+1):\n",
    "    for j in range(col+1):\n",
    "        li = [i*j]\n",
    "        print(li,end=' ')"
   ]
  },
  {
   "cell_type": "code",
   "execution_count": 28,
   "metadata": {},
   "outputs": [
    {
     "name": "stdout",
     "output_type": "stream",
     "text": [
      "enter a string:Python 3 2\n",
      "2\n",
      "6\n"
     ]
    }
   ],
   "source": [
    "\"\"\" Write a Python program that accepts a string and calculate the number of digits and letters. \"\"\"\n",
    "\n",
    "string = input('enter a string:')\n",
    "count_letter = 0\n",
    "count_digit = 0\n",
    "\n",
    "for i in string:\n",
    "    if i.isalpha():\n",
    "        count_letter += 1\n",
    "    elif i.isdigit():\n",
    "        count_digit += 1\n",
    "print(count_digit)\n",
    "print(count_letter)\n",
    "        "
   ]
  },
  {
   "cell_type": "code",
   "execution_count": 47,
   "metadata": {},
   "outputs": [
    {
     "name": "stdout",
     "output_type": "stream",
     "text": [
      "Enter a password: in23@m\n",
      "not strong\n"
     ]
    }
   ],
   "source": [
    "\"\"\"  Write a Python program to check the validity of password input by users. \n",
    "Validation :\n",
    "\n",
    "At least 1 letter between [a-z] and 1 letter between [A-Z].\n",
    "At least 1 number between [0-9].\n",
    "At least 1 character from [$#@].\n",
    "Minimum length 6 characters.\n",
    "Maximum length 16 characters. \"\"\"\n",
    "\n",
    "c_digit = 0\n",
    "c_lower = 0\n",
    "c_special = 0\n",
    "c_upper = 0\n",
    "\n",
    "password = input('Enter a password: ')\n",
    "\n",
    "if (len(password) < 6 and len(password) > 16):\n",
    "    print('Password should be more than 6 characters and less than 16 characters')\n",
    "else:\n",
    "    for i in password:\n",
    "            if (i.islower()):\n",
    "                c_lower += 1\n",
    "            elif (i.isupper()):\n",
    "                c_upper += 1\n",
    "            elif (i.isdigit()):\n",
    "                c_digit += 1\n",
    "            elif (i.isascii()):\n",
    "                c_special += 1\n",
    "if (c_lower >= 1) and (c_upper >= 1) and (c_digit >= 1) and (c_special >= 1):\n",
    "    print('strong password')\n",
    "else:\n",
    "    print('not strong')"
   ]
  },
  {
   "cell_type": "code",
   "execution_count": null,
   "metadata": {},
   "outputs": [],
   "source": []
  }
 ],
 "metadata": {
  "kernelspec": {
   "display_name": "Python 3",
   "language": "python",
   "name": "python3"
  }
 },
 "nbformat": 4,
 "nbformat_minor": 4
}
