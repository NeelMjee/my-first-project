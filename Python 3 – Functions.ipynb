{
 "cells": [
  {
   "cell_type": "code",
   "execution_count": 9,
   "metadata": {},
   "outputs": [
    {
     "name": "stdout",
     "output_type": "stream",
     "text": [
      "Hello Python\n"
     ]
    }
   ],
   "source": [
    "# Defining a Function\n",
    "\n",
    "def function1(str):\n",
    "    print(str)\n",
    "    return\n",
    "    \n",
    "# Calling a Function\n",
    "\n",
    "function1('Hello Python')"
   ]
  },
  {
   "cell_type": "code",
   "execution_count": 3,
   "metadata": {},
   "outputs": [
    {
     "name": "stdout",
     "output_type": "stream",
     "text": [
      "Values inside the function before change:  [10, 20, 30]\n",
      "Values inside the function after change:  [10, 20, 50]\n",
      "Values outside the function:  [10, 20, 50]\n"
     ]
    }
   ],
   "source": [
    "# Pass by Reference vs Value\n",
    "\n",
    "\"\"\" All parameters (arguments) in the Python language are passed by reference. It means if\n",
    "you change what a parameter refers to within a function, the change also reflects back in\n",
    "the calling function. \"\"\"\n",
    "\n",
    "def changeme( mylist ):\n",
    "    print (\"Values inside the function before change: \", mylist)\n",
    "    mylist[2]=50\n",
    "    print (\"Values inside the function after change: \", mylist)\n",
    "    return\n",
    "\n",
    "# Now you can call changeme function\n",
    "mylist = [10,20,30]\n",
    "changeme( mylist )\n",
    "print (\"Values outside the function: \", mylist)\n"
   ]
  },
  {
   "cell_type": "code",
   "execution_count": 4,
   "metadata": {},
   "outputs": [
    {
     "name": "stdout",
     "output_type": "stream",
     "text": [
      "Values inside the function:  [1, 2, 3, 4]\n",
      "Values outside the function:  [10, 20, 30]\n"
     ]
    }
   ],
   "source": [
    "\"\"\" There is one more example where argument is being passed by reference and the\n",
    "reference is being overwritten inside the called function \"\"\"\n",
    "\n",
    "def changeme( mylist ):\n",
    "    mylist = [1,2,3,4] # This would assi new reference in mylist\n",
    "    print (\"Values inside the function: \", mylist)\n",
    "    return\n",
    "\n",
    "\n",
    "# Now you can call changeme function\n",
    "mylist = [10,20,30]\n",
    "changeme( mylist )\n",
    "print (\"Values outside the function: \", mylist)"
   ]
  },
  {
   "cell_type": "markdown",
   "metadata": {},
   "source": [
    "## Function Arguments\n",
    "You can call a function by using the following types of formal arguments-\n",
    " Required arguments\n",
    " Keyword arguments\n",
    " Default arguments\n",
    " Variable-length arguments"
   ]
  },
  {
   "cell_type": "code",
   "execution_count": 5,
   "metadata": {},
   "outputs": [
    {
     "ename": "TypeError",
     "evalue": "printme() missing 1 required positional argument: 'str'",
     "output_type": "error",
     "traceback": [
      "\u001b[1;31m---------------------------------------------------------------------------\u001b[0m",
      "\u001b[1;31mTypeError\u001b[0m                                 Traceback (most recent call last)",
      "\u001b[1;32m<ipython-input-5-bf201555be54>\u001b[0m in \u001b[0;36m<module>\u001b[1;34m\u001b[0m\n\u001b[0;32m      9\u001b[0m     \u001b[1;32mreturn\u001b[0m\u001b[1;33m\u001b[0m\u001b[1;33m\u001b[0m\u001b[0m\n\u001b[0;32m     10\u001b[0m \u001b[1;31m# Now you can call printme function\u001b[0m\u001b[1;33m\u001b[0m\u001b[1;33m\u001b[0m\u001b[1;33m\u001b[0m\u001b[0m\n\u001b[1;32m---> 11\u001b[1;33m \u001b[0mprintme\u001b[0m\u001b[1;33m(\u001b[0m\u001b[1;33m)\u001b[0m\u001b[1;33m\u001b[0m\u001b[1;33m\u001b[0m\u001b[0m\n\u001b[0m",
      "\u001b[1;31mTypeError\u001b[0m: printme() missing 1 required positional argument: 'str'"
     ]
    }
   ],
   "source": [
    "# Required Arguments \n",
    "\n",
    "\"\"\" Required arguments are the arguments passed to a function in correct positional order.\n",
    "Here, the number of arguments in the function call should match exactly with the function\n",
    "definition. \"\"\"\n",
    "\n",
    "def printme( str ):\n",
    "    print (str)\n",
    "    return\n",
    "# Now you can call printme function\n",
    "printme()"
   ]
  },
  {
   "cell_type": "code",
   "execution_count": 6,
   "metadata": {},
   "outputs": [
    {
     "name": "stdout",
     "output_type": "stream",
     "text": [
      "My string\n"
     ]
    }
   ],
   "source": [
    "# Keyword Arguments\n",
    "\n",
    "\"\"\" Keyword arguments are related to the function calls. When you use keyword arguments\n",
    "in a function call, the caller identifies the arguments by the parameter name.\"\"\"\n",
    "\n",
    "def printme( str ):\n",
    "    print (str)\n",
    "    return\n",
    "# Now you can call printme function\n",
    "printme( str = \"My string\")"
   ]
  },
  {
   "cell_type": "code",
   "execution_count": 7,
   "metadata": {},
   "outputs": [
    {
     "name": "stdout",
     "output_type": "stream",
     "text": [
      "Name:  miki\n",
      "Age  50\n"
     ]
    }
   ],
   "source": [
    "# Function definition is here\n",
    "def printinfo( name, age ):\n",
    "    print (\"Name: \", name)\n",
    "    print (\"Age \", age)\n",
    "    return\n",
    "# Now you can call printinfo function\n",
    "printinfo( age=50, name=\"miki\" )"
   ]
  },
  {
   "cell_type": "code",
   "execution_count": 8,
   "metadata": {},
   "outputs": [
    {
     "name": "stdout",
     "output_type": "stream",
     "text": [
      "Name:  miki\n",
      "Age  50\n",
      "Name:  miki\n",
      "Age  35\n"
     ]
    }
   ],
   "source": [
    "# Default Arguments \n",
    "\n",
    "\"\"\" A default argument is an argument that assumes a default value if a value is not provided\n",
    "in the function call for that argument. \"\"\"\n",
    "\n",
    "def printinfo( name, age = 35 ):\n",
    "    print (\"Name: \", name)\n",
    "    print (\"Age \", age)\n",
    "    return\n",
    "\n",
    "# Now you can call printinfo function\n",
    "printinfo( age=50, name=\"miki\" )\n",
    "printinfo( name=\"miki\" )"
   ]
  },
  {
   "cell_type": "code",
   "execution_count": 11,
   "metadata": {},
   "outputs": [
    {
     "name": "stdout",
     "output_type": "stream",
     "text": [
      "Output is: \n",
      "10\n",
      "Output is: \n",
      "70\n",
      "60\n",
      "50\n"
     ]
    }
   ],
   "source": [
    "# Variable-length Arguments \n",
    "\n",
    "\"\"\" You may need to process a function for more arguments than you specified while defining\n",
    "the function. These arguments are called variable-length arguments and are not named in\n",
    "the function definition, unlike required and default arguments. \"\"\"\n",
    "\n",
    "def printinfo( arg1, *vartuple ):\n",
    "    print (\"Output is: \")\n",
    "    print (arg1)\n",
    "    for var in vartuple:\n",
    "        print (var)\n",
    "    return\n",
    "\n",
    "# Now you can call printinfo function\n",
    "printinfo( 10 )\n",
    "printinfo( 70, 60, 50 )"
   ]
  },
  {
   "cell_type": "code",
   "execution_count": 12,
   "metadata": {},
   "outputs": [
    {
     "name": "stdout",
     "output_type": "stream",
     "text": [
      "Value of total :  30\n",
      "Value of total :  40\n"
     ]
    }
   ],
   "source": [
    "# The Anonymous Functions\n",
    "\n",
    "\"\"\" These functions are called anonymous because they are not declared in the standard\n",
    "manner by using the def keyword. You can use the lambda keyword to create small\n",
    "anonymous functions. \"\"\"\n",
    "\n",
    "sum = lambda arg1, arg2: arg1 + arg2\n",
    "\n",
    "print (\"Value of total : \", sum( 10, 20 ))\n",
    "print (\"Value of total : \", sum( 20, 20 ))"
   ]
  },
  {
   "cell_type": "code",
   "execution_count": 13,
   "metadata": {},
   "outputs": [
    {
     "name": "stdout",
     "output_type": "stream",
     "text": [
      "4\n"
     ]
    }
   ],
   "source": [
    "s=lambda x:x*x\n",
    "print(s(2)) "
   ]
  },
  {
   "cell_type": "code",
   "execution_count": 14,
   "metadata": {},
   "outputs": [
    {
     "name": "stdout",
     "output_type": "stream",
     "text": [
      "<map object at 0x000001A3E1986790>\n"
     ]
    }
   ],
   "source": [
    "# Map Function \n",
    "\n",
    "\"\"\"Map takes a function and a collection of items. It makes a new, empty collection, runs the function on each item in\n",
    "the original collection and inserts each return value into the new collection. It returns the new collection.\"\"\"\n",
    "\n",
    "name_lengths = map(len, [\"Mary\", \"Isla\", \"Sam\"])\n",
    "print(name_lengths)"
   ]
  },
  {
   "cell_type": "code",
   "execution_count": 2,
   "metadata": {},
   "outputs": [
    {
     "name": "stdout",
     "output_type": "stream",
     "text": [
      "10\n"
     ]
    }
   ],
   "source": [
    "# Section 35.3: Reduce Function\n",
    "\n",
    "# Reduce takes a function and a collection of items. It returns a value that is created by combining the items.\n",
    "import functools \n",
    "total = functools.reduce(lambda a, x: a + x, [0, 1, 2, 3, 4])\n",
    "print(total)"
   ]
  },
  {
   "cell_type": "code",
   "execution_count": 3,
   "metadata": {},
   "outputs": [
    {
     "data": {
      "text/plain": [
       "[5, 6]"
      ]
     },
     "execution_count": 3,
     "metadata": {},
     "output_type": "execute_result"
    }
   ],
   "source": [
    "# Filter Function\n",
    "# Filter takes a function and a collection. It returns a collection of every item for which the function returned True.\n",
    "\n",
    "arr=[1,2,3,4,5,6]\n",
    "[i for i in filter(lambda x:x>4,arr)]"
   ]
  },
  {
   "cell_type": "code",
   "execution_count": null,
   "metadata": {},
   "outputs": [],
   "source": []
  }
 ],
 "metadata": {
  "kernelspec": {
   "display_name": "Python 3",
   "language": "python",
   "name": "python3"
  },
  "language_info": {
   "codemirror_mode": {
    "name": "ipython",
    "version": 3
   },
   "file_extension": ".py",
   "mimetype": "text/x-python",
   "name": "python",
   "nbconvert_exporter": "python",
   "pygments_lexer": "ipython3",
   "version": "3.8.3"
  }
 },
 "nbformat": 4,
 "nbformat_minor": 4
}
