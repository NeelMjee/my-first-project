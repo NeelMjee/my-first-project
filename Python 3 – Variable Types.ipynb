{

 "cells": [
  {
   "cell_type": "code",
   "execution_count": 1,
   "metadata": {},
   "outputs": [
    {
     "name": "stdout",
     "output_type": "stream",
     "text": [
      "9\n",
      "<class 'int'>\n"
     ]
    }
   ],
   "source": [
    "# Types of variables in Python\n",
    "\n",
    "num = 9\n",
    "print(num)\n",
    "print(type(num))"
   ]
  },
  {
   "cell_type": "code",
   "execution_count": 2,
   "metadata": {},
   "outputs": [
    {
     "name": "stdout",
     "output_type": "stream",
     "text": [
      "Hellp World\n",
      "<class 'str'>\n"
     ]
    }
   ],
   "source": [
    "string_a = \"Hellp World\"\n",
    "print(string_a)\n",
    "print(type(string_a))"
   ]
  },
  {
   "cell_type": "code",
   "execution_count": 3,
   "metadata": {},
   "outputs": [
    {
     "name": "stdout",
     "output_type": "stream",
     "text": [
      "5.9\n",
      "<class 'float'>\n"
     ]
    }
   ],
   "source": [
    "flt = 5.9\n",
    "print(flt)\n",
    "print(type(flt))"
   ]
  },
  {
   "cell_type": "code",
   "execution_count": 4,
   "metadata": {},
   "outputs": [
    {
     "name": "stdout",
     "output_type": "stream",
     "text": [
      "True\n",
      "<class 'bool'>\n"
     ]
    }
   ],
   "source": [
    "boolean_1 =  True\n",
    "print(boolean_1)\n",
    "print(type(boolean_1))"
   ]
  },
  {
   "cell_type": "code",
   "execution_count": 5,
   "metadata": {},
   "outputs": [
    {
     "name": "stdout",
     "output_type": "stream",
     "text": [
      "None\n",
      "<class 'NoneType'>\n"
     ]
    }
   ],
   "source": [
    "none_type = None\n",
    "print(none_type)\n",
    "print(type(none_type))"
   ]
  },
  {
   "cell_type": "code",
   "execution_count": 8,
   "metadata": {},
   "outputs": [
    {
     "name": "stdout",
     "output_type": "stream",
     "text": [
      "(2+5j)\n",
      "<class 'complex'>\n"
     ]
    }
   ],
   "source": [
    "complx = 2+5j\n",
    "print(complx)\n",
    "print(type(complx))"
   ]
  },
  {
   "cell_type": "markdown",
   "metadata": {},
   "source": [
    "## Collective data types"
   ]
  },
  {
   "cell_type": "code",
   "execution_count": 9,
   "metadata": {},
   "outputs": [
    {
     "name": "stdout",
     "output_type": "stream",
     "text": [
      "(1, 2, 3, 5, 'a', 'b', 'c')\n",
      "<class 'tuple'>\n"
     ]
    }
   ],
   "source": [
    "tup = (1,2,3,5,'a','b','c')\n",
    "print(tup)\n",
    "print(type(tup))"
   ]
  },
  {
   "cell_type": "code",
   "execution_count": 10,
   "metadata": {},
   "outputs": [
    {
     "name": "stdout",
     "output_type": "stream",
     "text": [
      "{'Titanic': 'Hollywood', 'Uri': 'Bollywood'}\n",
      "<class 'dict'>\n"
     ]
    }
   ],
   "source": [
    "dict_1 = {\n",
    "    \"Titanic\":\"Hollywood\",\n",
    "    \"Uri\":\"Bollywood\",  \n",
    "}\n",
    "print(dict_1)\n",
    "print(type(dict_1))"
   ]
  },
  {
   "cell_type": "code",
   "execution_count": 11,
   "metadata": {},
   "outputs": [
    {
     "name": "stdout",
     "output_type": "stream",
     "text": [
      "[11, 12, 13, 14, 5]\n",
      "<class 'list'>\n"
     ]
    }
   ],
   "source": [
    "list_1 = [11,12,13,14,5]\n",
    "print(list_1)\n",
    "print(type(list_1))"
   ]
  },
  {
   "cell_type": "code",
   "execution_count": 12,
   "metadata": {},
   "outputs": [
    {
     "name": "stdout",
     "output_type": "stream",
     "text": [
      "{67, 11, 12, 13, 14, 55}\n",
      "<class 'set'>\n"
     ]
    }
   ],
   "source": [
    "set_1 = {11,12,13,13,14,13,55,67}\n",
    "print(set_1)\n",
    "print(type(set_1))"
   ]
  },
  {
   "cell_type": "markdown",
   "metadata": {},
   "source": [
    "## Data Type Conversion"
   ]
  },
  {
   "cell_type": "code",
   "execution_count": 25,
   "metadata": {},
   "outputs": [
    {
     "name": "stdout",
     "output_type": "stream",
     "text": [
      "5\n"
     ]
    }
   ],
   "source": [
    "# int(x [,base]) Converts x to an integer. The base specifies the base if x is a string.\n",
    "\n",
    "num_2 = int(flt,)\n",
    "print(num_2)\n",
    "\n"
   ]
  },
  {
   "cell_type": "code",
   "execution_count": 17,
   "metadata": {},
   "outputs": [
    {
     "name": "stdout",
     "output_type": "stream",
     "text": [
      "9.0\n"
     ]
    }
   ],
   "source": [
    "# float(x)\n",
    "\n",
    "flt_2 = float(num)\n",
    "print(flt_2)"
   ]
  },
  {
   "cell_type": "code",
   "execution_count": 20,
   "metadata": {},
   "outputs": [
    {
     "name": "stdout",
     "output_type": "stream",
     "text": [
      "(3+4j)\n"
     ]
    }
   ],
   "source": [
    "#complex(real [,imag])\n",
    "\n",
    "complx_2 = complex(3 ,4)\n",
    "print(complx_2)"
   ]
  },
  {
   "cell_type": "code",
   "execution_count": 26,
   "metadata": {},
   "outputs": [
    {
     "name": "stdout",
     "output_type": "stream",
     "text": [
      "12\n"
     ]
    },
    {
     "data": {
      "text/plain": [
       "str"
      ]
     },
     "execution_count": 26,
     "metadata": {},
     "output_type": "execute_result"
    }
   ],
   "source": [
    "# str(x)\n",
    "\n",
    "n1 = 12\n",
    "s1 = str(n1)\n",
    "print(s1)\n",
    "type(s1)"
   ]
  },
  {
   "cell_type": "code",
   "execution_count": 27,
   "metadata": {},
   "outputs": [
    {
     "name": "stdout",
     "output_type": "stream",
     "text": [
      "3.14\n",
      "<class 'str'>\n"
     ]
    }
   ],
   "source": [
    "# repr(x) Converts object x to an expression string.\n",
    "\n",
    "pi = 3.14\n",
    "r1 = repr(pi)\n",
    "print(r1)\n",
    "print(type(r1))"
   ]
  },
  {
   "cell_type": "code",
   "execution_count": 30,
   "metadata": {},
   "outputs": [
    {
     "name": "stdout",
     "output_type": "stream",
     "text": [
      "[12, 13, 14]\n"
     ]
    }
   ],
   "source": [
    "# eval(str) Evaluates a string and returns an object.\n",
    "\n",
    "s1 = '[12,13,14]'\n",
    "s_test = eval(s1)\n",
    "print(s_test)\n"
   ]
  },
  {
   "cell_type": "code",
   "execution_count": 31,
   "metadata": {},
   "outputs": [
    {
     "name": "stdout",
     "output_type": "stream",
     "text": [
      "('H', 'e', 'l', 'l', 'o', ' ', 'W', 'o', 'r', 'l', 'd')\n"
     ]
    }
   ],
   "source": [
    "# tuple(s)\n",
    "\n",
    "s2 = \"Hello World\"\n",
    "t1 = tuple(s2)\n",
    "print(t1)"
   ]
  },
  {
   "cell_type": "code",
   "execution_count": 32,
   "metadata": {},
   "outputs": [
    {
     "name": "stdout",
     "output_type": "stream",
     "text": [
      "[0, 1, 4, 8, 9, 11, 44, 56]\n"
     ]
    }
   ],
   "source": [
    "# list(s)\n",
    "\n",
    "se1 = {11,4,56,8,9,0,44,1}\n",
    "li1 = list(se1)\n",
    "print(li1)"
   ]
  },
  {
   "cell_type": "code",
   "execution_count": 34,
   "metadata": {},
   "outputs": [
    {
     "name": "stdout",
     "output_type": "stream",
     "text": [
      "{('Harry', 12), ('John', 44)}\n"
     ]
    }
   ],
   "source": [
    "# set(s)\n",
    "\n",
    "dic1= {\"Harry\":12,\"John\":44}\n",
    "se2 = set(dic1.items())\n",
    "print(se2)"
   ]
  },
  {
   "cell_type": "code",
   "execution_count": 44,
   "metadata": {},
   "outputs": [
    {
     "name": "stdout",
     "output_type": "stream",
     "text": [
      "{'2BHK': '75L', '3BHK': '99L', '1BHK': '59L', '1RK': '33L'}\n"
     ]
    }
   ],
   "source": [
    "# dict(d)\n",
    "\n",
    "d1 = {'2BHK': '75L','3BHK':'99L','1BHK':'59L','1RK':'33L'}\n",
    "d2= dict(d1)\n",
    "print(d2)\n"
   ]
  },
  {
   "cell_type": "code",
   "execution_count": 45,
   "metadata": {},
   "outputs": [
    {
     "name": "stdout",
     "output_type": "stream",
     "text": [
      "97\n"
     ]
    }
   ],
   "source": [
    "# ord(x) Converts a single character to its integer value.\n",
    "\n",
    "s3 = 'a'\n",
    "num_val = ord(s3)\n",
    "print(num_val)"
   ]
  },
  {
   "cell_type": "code",
   "execution_count": 50,
   "metadata": {},
   "outputs": [
    {
     "name": "stdout",
     "output_type": "stream",
     "text": [
      "0xa\n"
     ]
    }
   ],
   "source": [
    "# hex(x) Converts an integer to a hexadecimal string.\n",
    "\n",
    "hexa_val = hex(10)\n",
    "print(hexa_val)"
   ]
  },
  {
   "cell_type": "code",
   "execution_count": 52,
   "metadata": {},
   "outputs": [
    {
     "name": "stdout",
     "output_type": "stream",
     "text": [
      "0o12\n"
     ]
    }
   ],
   "source": [
    "# oct(x) Converts an integer to an octal string.\n",
    "\n",
    "oct_val = oct(10)\n",
    "print(oct_val)"
   ]
  },
  {
   "cell_type": "code",
   "execution_count": 54,
   "metadata": {},
   "outputs": [
    {
     "name": "stdout",
     "output_type": "stream",
     "text": [
      "0x1\n",
      "0x2\n",
      "0x3\n",
      "0x4\n",
      "0x5\n",
      "0x6\n",
      "0x7\n",
      "0x8\n",
      "0x9\n",
      "0xa\n",
      "0xb\n",
      "0xc\n",
      "0xd\n",
      "0xe\n",
      "0xf\n",
      "0x10\n",
      "0x11\n",
      "0x12\n",
      "0x13\n",
      "0x14\n"
     ]
    }
   ],
   "source": [
    "list_a = [1,2,3,4,5,6,7,8,9,10,11,12,13,14,15,16,17,18,19,20]\n",
    "\n",
    "for val in list_a:\n",
    "    print(hex(val))"
   ]
  },
  {
   "cell_type": "code",
   "execution_count": 55,
   "metadata": {},
   "outputs": [
    {
     "name": "stdout",
     "output_type": "stream",
     "text": [
      "0o1\n",
      "0o2\n",
      "0o3\n",
      "0o4\n",
      "0o5\n",
      "0o6\n",
      "0o7\n",
      "0o10\n",
      "0o11\n",
      "0o12\n",
      "0o13\n",
      "0o14\n",
      "0o15\n",
      "0o16\n",
      "0o17\n",
      "0o20\n",
      "0o21\n",
      "0o22\n",
      "0o23\n",
      "0o24\n"
     ]
    }
   ],
   "source": [
    "list_a = [1,2,3,4,5,6,7,8,9,10,11,12,13,14,15,16,17,18,19,20]\n",
    "\n",
    "for val in list_a:\n",
    "    print(oct(val))"
   ]
  },
  {
   "cell_type": "code",
   "execution_count": 56,
   "metadata": {},
   "outputs": [
    {
     "name": "stdout",
     "output_type": "stream",
     "text": [
      "97\n",
      "98\n",
      "99\n",
      "100\n",
      "101\n",
      "65\n",
      "66\n",
      "67\n",
      "68\n",
      "69\n"
     ]
    }
   ],
   "source": [
    "list_b =['a','b','c','d','e','A','B','C','D','E']\n",
    "\n",
    "for val in list_b:\n",
    "    print(ord(val))"
   ]
  },
  {
   "cell_type": "code",
   "execution_count": null,
   "metadata": {},
   "outputs": [],
   "source": []
  }
 ],
 "metadata": {
  "kernelspec": {
   "display_name": "Python 3",
   "language": "python",
   "name": "python3"
  },
  "language_info": {
   "codemirror_mode": {
    "name": "ipython",
    "version": 3
   },
   "file_extension": ".py",
   "mimetype": "text/x-python",
   "name": "python",
   "nbconvert_exporter": "python",
   "pygments_lexer": "ipython3",
   "version": "3.8.3"
  }
 },
 "nbformat": 4,
 "nbformat_minor": 4
}
