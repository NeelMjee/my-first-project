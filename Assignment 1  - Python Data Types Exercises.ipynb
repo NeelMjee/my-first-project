{
 "cells": [
  {
   "cell_type": "code",
   "execution_count": 1,
   "metadata": {},
   "outputs": [
    {
     "name": "stdout",
     "output_type": "stream",
     "text": [
      "34\n"
     ]
    }
   ],
   "source": [
    "# 1. Write a Python program to calculate the length of a string\n",
    "\n",
    "s = 'Hello All !!, I am learning python'\n",
    "print(len(s))"
   ]
  },
  {
   "cell_type": "code",
   "execution_count": 2,
   "metadata": {},
   "outputs": [
    {
     "name": "stdout",
     "output_type": "stream",
     "text": [
      "65\n"
     ]
    }
   ],
   "source": [
    "# Write a Python program to sum all the items in a list.\n",
    "\n",
    "li = [11,12,13,14,15]\n",
    "sum = 0\n",
    "for i in li:\n",
    "    sum += i\n",
    "print(sum)"
   ]
  },
  {
   "cell_type": "code",
   "execution_count": 3,
   "metadata": {},
   "outputs": [
    {
     "name": "stdout",
     "output_type": "stream",
     "text": [
      "120\n"
     ]
    }
   ],
   "source": [
    "# Write a Python program to multiplies all the items in a list.\n",
    "\n",
    "li2 = [1,2,3,4,5]\n",
    "mul = 1\n",
    "for i in li2:\n",
    "    mul *= i\n",
    "print(mul)"
   ]
  },
  {
   "cell_type": "code",
   "execution_count": 4,
   "metadata": {},
   "outputs": [
    {
     "name": "stdout",
     "output_type": "stream",
     "text": [
      "15\n"
     ]
    }
   ],
   "source": [
    "# Write a Python program to get the largest number from a list.\n",
    "\n",
    "print(max(li))"
   ]
  },
  {
   "cell_type": "code",
   "execution_count": 5,
   "metadata": {},
   "outputs": [
    {
     "name": "stdout",
     "output_type": "stream",
     "text": [
      "1\n"
     ]
    }
   ],
   "source": [
    "# Write a Python program to get the smallest number from a list.\n",
    "\n",
    "print(min(li2))"
   ]
  },
  {
   "cell_type": "code",
   "execution_count": 8,
   "metadata": {},
   "outputs": [
    {
     "name": "stdout",
     "output_type": "stream",
     "text": [
      "g:2,o:3,l\"1,e:1,c:1,m:1,.:1\n"
     ]
    }
   ],
   "source": [
    "# Write a Python program to count the number of characters in a string. Sample String : 'google.com'\n",
    "\n",
    "s2 = 'google.com'\n",
    "\n",
    "for i in s2:\n",
    "    g = s2.count('g')\n",
    "    o = s2.count('o')\n",
    "    l = s2.count('l')\n",
    "    e = s2.count('e')\n",
    "    c = s2.count('c')\n",
    "    m = s2.count('m')\n",
    "    dot = s2.count('.')\n",
    "    \n",
    "print('g:{},o:{},l\"{},e:{},c:{},m:{},.:{}'.format(g,o,l,e,c,m,dot))\n",
    "        "
   ]
  },
  {
   "cell_type": "code",
   "execution_count": 11,
   "metadata": {},
   "outputs": [
    {
     "name": "stdout",
     "output_type": "stream",
     "text": [
      "{'g': 2, 'o': 3, 'l': 1, 'e': 1, '.': 1, 'c': 1, 'm': 1}\n"
     ]
    }
   ],
   "source": [
    "# Write a Python program to count the number of characters (character frequency) in a string.\n",
    "\n",
    "def char_frequency(str1):  \n",
    "    dict = {}  \n",
    "    for n in str1:  \n",
    "        keys = dict.keys()  \n",
    "        if n in keys:  \n",
    "            dict[n] += 1  \n",
    "        else:  \n",
    "            dict[n] = 1  \n",
    "    return dict  \n",
    "print(char_frequency('google.com'))  "
   ]
  },
  {
   "cell_type": "code",
   "execution_count": 17,
   "metadata": {},
   "outputs": [
    {
     "name": "stdout",
     "output_type": "stream",
     "text": [
      "3\n"
     ]
    }
   ],
   "source": [
    "# Write a Python program to count the number of strings where the string length is 2 \n",
    "# or more and the first and last character are same from a given list of strings.\n",
    "\n",
    "sam_li=  ['abc', 'xyz', 'aba', '1221','ee']\n",
    "count = 0\n",
    "for i in sam_li:\n",
    "    check = len(i)\n",
    "    if check >= 2 and i[0] == i[-1]:\n",
    "        count += 1\n",
    "print(count)\n",
    "\n",
    "\n"
   ]
  },
  {
   "cell_type": "code",
   "execution_count": 33,
   "metadata": {},
   "outputs": [
    {
     "name": "stdout",
     "output_type": "stream",
     "text": [
      "[1, 1, 2, 2, 2, 2, 3, 4, 4, 5]\n"
     ]
    }
   ],
   "source": [
    "# Write a python program to sort a list of tuples in increasing order of the tuple items\n",
    "\n",
    "sam_li2 =  [(2, 5), (1, 2), (4, 4), (2, 3), (2, 1)]\n",
    "empty_li = []\n",
    "\n",
    "for i in sam_li2:\n",
    "    for j in i:\n",
    "        empty_li.append(j)\n",
    "        empty_li.sort()\n",
    "print(empty_li)        \n",
    "    "
   ]
  },
  {
   "cell_type": "code",
   "execution_count": 41,
   "metadata": {},
   "outputs": [
    {
     "name": "stdout",
     "output_type": "stream",
     "text": [
      "[(2, 5), (1, 2), (1, 2), (4, 4), (4, 4), (2, 3), (2, 3), (2, 3), (2, 1), (2, 1), (2, 1), (2, 1), (2, 1)]\n"
     ]
    }
   ],
   "source": [
    "\"\"\" Write a Python program to get a list, sorted in increasing order by the last element \n",
    "in each tuple from a given list of non-empty tuples. \"\"\"\n",
    "\n",
    "sam_li3 =  [(2, 5), (1, 2), (4, 4), (2, 3), (2, 1)]\n",
    "dummy_li = []\n",
    "nw_li = []\n",
    "\n",
    "for item in sam_li3:\n",
    "    for j in item:\n",
    "        \n",
    "    "
   ]
  },
  {
   "cell_type": "code",
   "execution_count": null,
   "metadata": {},
   "outputs": [],
   "source": [
    "check = item[-1]\n",
    "    dummy_li.append(check)\n",
    "    dummy_li.sort()\n",
    "    #print(dummy_li)\n",
    "    for j in dummy_li:\n",
    "        if item[-1] <= j:\n",
    "            nw_li.append(item)\n",
    "print(nw_li)\n",
    "        "
   ]
  }
 ],
 "metadata": {
  "kernelspec": {
   "display_name": "Python 3",
   "language": "python",
   "name": "python3"
  },
  "language_info": {
   "codemirror_mode": {
    "name": "ipython",
    "version": 3
   },
   "file_extension": ".py",
   "mimetype": "text/x-python",
   "name": "python",
   "nbconvert_exporter": "python",
   "pygments_lexer": "ipython3",
   "version": "3.8.3"
  }
 },
 "nbformat": 4,
 "nbformat_minor": 4
}
